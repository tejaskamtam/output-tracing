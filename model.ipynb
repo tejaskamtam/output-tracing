{
 "cells": [
  {
   "cell_type": "code",
   "execution_count": 12,
   "metadata": {},
   "outputs": [
    {
     "data": {
      "text/plain": [
       "'cuda'"
      ]
     },
     "execution_count": 12,
     "metadata": {},
     "output_type": "execute_result"
    }
   ],
   "source": [
    "import torch\n",
    "import torch.nn as nn\n",
    "import torch.nn.functional as F\n",
    "import torch.optim as optim\n",
    "from torchvision import datasets, transforms\n",
    "import matplotlib.pyplot as plt\n",
    "import datetime\n",
    "\n",
    "device = \"cuda\" if torch.cuda.is_available() else \"cpu\"\n",
    "device"
   ]
  },
  {
   "cell_type": "code",
   "execution_count": 2,
   "metadata": {},
   "outputs": [],
   "source": [
    "# params\n",
    "batch_size = 100\n",
    "\n",
    "# data downloading - MNIST 28x28x1; 10 classes; 60,000 train, 10,000 test\n",
    "train = datasets.MNIST(root='./data', train=True, download=True, transform=transforms.ToTensor())\n",
    "test = datasets.MNIST(root='./data', train=False, download=True, transform=transforms.ToTensor())\n",
    "\n",
    "# data loader\n",
    "torch.manual_seed(42)\n",
    "kwargs = {'num_workers': 2, 'pin_memory': True} if device=='cuda' else {}\n",
    "train_loader = torch.utils.data.DataLoader(dataset=train, batch_size=batch_size, shuffle=True, **kwargs)\n",
    "test_loader = torch.utils.data.DataLoader(dataset=test, batch_size=batch_size, shuffle=False, **kwargs)"
   ]
  },
  {
   "cell_type": "code",
   "execution_count": 3,
   "metadata": {},
   "outputs": [
    {
     "name": "stdout",
     "output_type": "stream",
     "text": [
      "tensor(5)\n"
     ]
    }
   ],
   "source": [
    "# should be 5\n",
    "print(train_loader.dataset.targets[0])"
   ]
  },
  {
   "cell_type": "code",
   "execution_count": 10,
   "metadata": {},
   "outputs": [],
   "source": [
    "class Net(nn.Module):\n",
    "  def __init__(self):\n",
    "    super().__init__()\n",
    "    self.fc1 = nn.Linear(28*28*1, 64)\n",
    "    self.fc2 = nn.Linear(64, 10)\n",
    "  def forward(self, x):\n",
    "    x = torch.flatten(x, 1)\n",
    "    x = self.fc1(x)\n",
    "    x = F.relu(x)\n",
    "    x = self.fc2(x)\n",
    "    return F.log_softmax(x, dim=1)\n",
    "\n",
    "def train_model(data_loader, model, num_epochs):\n",
    "  # initialization\n",
    "  model.train()\n",
    "  # optimization\n",
    "  opt = optim.Adam(model.parameters(), lr=0.01)\n",
    "  L = nn.CrossEntropyLoss()\n",
    "  # training\n",
    "  losses = []\n",
    "  mean_losses = []\n",
    "  accuracy = []\n",
    "  mean_accuracy = []\n",
    "  for epoch in range(num_epochs):\n",
    "    epoch_losses = []\n",
    "    epoch_accuracy = []\n",
    "    for batch_idx, (data, target) in enumerate(data_loader):\n",
    "      data = data.to(device)\n",
    "      target = target.to(device)\n",
    "      # data = data.view(data.shape[0], -1)\n",
    "      opt.zero_grad()\n",
    "      output = model(data)\n",
    "      loss = L(output, target)\n",
    "      loss.backward()\n",
    "      opt.step()\n",
    "      epoch_losses.append(loss.item())\n",
    "      epoch_accuracy.append((output.argmax(dim=1)==target).float().mean())\n",
    "    losses.append(epoch_losses)\n",
    "    mean_losses.append(torch.tensor(epoch_losses).mean())\n",
    "    accuracy.append(epoch_accuracy)\n",
    "    mean_accuracy.append(torch.tensor(epoch_accuracy).mean())\n",
    "    print(f'Epoch: {epoch+1}, Loss: {mean_losses[epoch]:.6f}, Accuracy: {mean_accuracy[epoch]:.6f}')\n",
    "  return mean_losses, mean_accuracy\n",
    "\n",
    "def test_model(data_loader, model):\n",
    "  # initialization\n",
    "  model.eval()\n",
    "  # testing\n",
    "  test_loss = []\n",
    "  test_accuracy = []\n",
    "  correct = 0\n",
    "  L = nn.CrossEntropyLoss()\n",
    "  with torch.no_grad():\n",
    "    for data, target in data_loader:\n",
    "      data = data.to(device)\n",
    "      target = target.to(device)\n",
    "      # data = data.view(data.shape[0], -1)\n",
    "      output = model(data)\n",
    "      test_loss.append(L(output, target).item())\n",
    "      pred = output.argmax(dim=1, keepdim=True)\n",
    "      correct += pred.eq(target.view_as(pred)).sum().item()\n",
    "      test_accuracy.append((output.argmax(dim=1)==target).float().mean())\n",
    "  mean_loss = torch.tensor(test_loss).mean()\n",
    "  mean_accuracy = torch.tensor(test_accuracy).mean()\n",
    "  print(f'Average loss: {mean_loss:.4f}, Average Accuracy: {mean_accuracy:.4f}, Accuracy: {correct}/{len(data_loader.dataset)} ({100. * correct / len(data_loader.dataset):.0f}%)')\n",
    "  return mean_loss, mean_accuracy"
   ]
  },
  {
   "cell_type": "code",
   "execution_count": 5,
   "metadata": {},
   "outputs": [
    {
     "name": "stdout",
     "output_type": "stream",
     "text": [
      "Epoch: 1, Loss: 0.241071, Accuracy: 0.928300\n",
      "Epoch: 2, Loss: 0.126403, Accuracy: 0.962267\n",
      "Epoch: 3, Loss: 0.102688, Accuracy: 0.968917\n",
      "Epoch: 4, Loss: 0.085066, Accuracy: 0.973817\n",
      "Epoch: 5, Loss: 0.076701, Accuracy: 0.976867\n"
     ]
    },
    {
     "data": {
      "text/plain": [
       "([tensor(0.2411),\n",
       "  tensor(0.1264),\n",
       "  tensor(0.1027),\n",
       "  tensor(0.0851),\n",
       "  tensor(0.0767)],\n",
       " [tensor(0.9283),\n",
       "  tensor(0.9623),\n",
       "  tensor(0.9689),\n",
       "  tensor(0.9738),\n",
       "  tensor(0.9769)])"
      ]
     },
     "execution_count": 5,
     "metadata": {},
     "output_type": "execute_result"
    }
   ],
   "source": [
    "# params\n",
    "model = Net().to(device)\n",
    "num_epochs = 5\n",
    "\n",
    "# train loop\n",
    "print(\"Training\")\n",
    "train_model(train_loader, model, num_epochs)\n",
    "# save model\n",
    "torch.save(model.state_dict(), \"models/\" + datetime.datetime.now().strftime(\"%Y-%m-%d-%H:%M:%S\") + \".pt\")\n",
    "\n",
    "# load model\n",
    "# model = Net().to(device)\n",
    "# model.load_state_dict(torch.load(\"models/2021-03-07-16:56:56.pt\"))\n",
    "\n",
    "\n",
    "# test loop\n",
    "print(\"Testing\")\n",
    "test_model(test_loader, model)"
   ]
  },
  {
   "cell_type": "code",
   "execution_count": 14,
   "metadata": {},
   "outputs": [],
   "source": [
    "\n"
   ]
  }
 ],
 "metadata": {
  "kernelspec": {
   "display_name": "torch",
   "language": "python",
   "name": "python3"
  },
  "language_info": {
   "codemirror_mode": {
    "name": "ipython",
    "version": 3
   },
   "file_extension": ".py",
   "mimetype": "text/x-python",
   "name": "python",
   "nbconvert_exporter": "python",
   "pygments_lexer": "ipython3",
   "version": "3.10.11"
  },
  "orig_nbformat": 4
 },
 "nbformat": 4,
 "nbformat_minor": 2
}
