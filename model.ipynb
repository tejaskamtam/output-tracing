{
 "cells": [
  {
   "cell_type": "code",
   "execution_count": 1,
   "metadata": {},
   "outputs": [
    {
     "data": {
      "text/plain": [
       "'cuda'"
      ]
     },
     "execution_count": 1,
     "metadata": {},
     "output_type": "execute_result"
    }
   ],
   "source": [
    "import torch\n",
    "import torch.nn as nn\n",
    "import torch.nn.functional as F\n",
    "import torch.optim as optim\n",
    "from torchvision import datasets, transforms\n",
    "import matplotlib.pyplot as plt\n",
    "\n",
    "device = \"cuda\" if torch.cuda.is_available() else \"cpu\"\n",
    "device"
   ]
  },
  {
   "cell_type": "code",
   "execution_count": 2,
   "metadata": {},
   "outputs": [],
   "source": [
    "# params\n",
    "batch_size = 100\n",
    "\n",
    "# data downloading - MNIST 28x28x1; 10 classes; 60,000 train, 10,000 test\n",
    "train = datasets.MNIST(root='./data', train=True, download=True, transform=transforms.ToTensor())\n",
    "test = datasets.MNIST(root='./data', train=False, download=True, transform=transforms.ToTensor())\n",
    "\n",
    "# data loader\n",
    "torch.manual_seed(42)\n",
    "kwargs = {'num_workers': 2, 'pin_memory': True} if device=='cuda' else {}\n",
    "train_loader = torch.utils.data.DataLoader(dataset=train, batch_size=batch_size, shuffle=True, **kwargs)\n",
    "test_loader = torch.utils.data.DataLoader(dataset=test, batch_size=batch_size, shuffle=False, **kwargs)"
   ]
  },
  {
   "cell_type": "code",
   "execution_count": 3,
   "metadata": {},
   "outputs": [
    {
     "name": "stdout",
     "output_type": "stream",
     "text": [
      "tensor(5)\n"
     ]
    }
   ],
   "source": [
    "# should be 5\n",
    "print(train_loader.dataset.targets[0])"
   ]
  },
  {
   "cell_type": "code",
   "execution_count": 15,
   "metadata": {},
   "outputs": [],
   "source": [
    "class Net(nn.Module):\n",
    "  def __init__(self):\n",
    "    super().__init__()\n",
    "    self.fc1 = nn.Linear(28*28*1, 64)\n",
    "    self.fc2 = nn.Linear(64, 10)\n",
    "  def forward(self, x):\n",
    "    x = torch.flatten(x, 1)\n",
    "    x = self.fc1(x)\n",
    "    x = F.relu(x)\n",
    "    x = self.fc2(x)\n",
    "    return F.log_softmax(x, dim=1)\n",
    "\n",
    "def train_model(data_loader, model, num_epochs):\n",
    "  # initialization\n",
    "  model.train()\n",
    "  # optimization\n",
    "  opt = optim.Adam(model.parameters(), lr=0.01)\n",
    "  L = nn.CrossEntropyLoss()\n",
    "  # training\n",
    "  losses = []\n",
    "  mean_losses = []\n",
    "  accuracy = []\n",
    "  mean_accuracy = []\n",
    "  for epoch in range(num_epochs):\n",
    "    epoch_losses = []\n",
    "    epoch_accuracy = []\n",
    "    for batch_idx, (data, target) in enumerate(data_loader):\n",
    "      data = data.to(device)\n",
    "      target = target.to(device)\n",
    "      # data = data.view(data.shape[0], -1)\n",
    "      opt.zero_grad()\n",
    "      output = model(data)\n",
    "      loss = L(output, target)\n",
    "      loss.backward()\n",
    "      opt.step()\n",
    "      epoch_losses.append(loss.item())\n",
    "      epoch_accuracy.append((output.argmax(dim=1)==target).float().mean())\n",
    "    losses.append(epoch_losses)\n",
    "    mean_losses.append(torch.tensor(epoch_losses).mean())\n",
    "    accuracy.append(epoch_accuracy)\n",
    "    mean_accuracy.append(torch.tensor(epoch_accuracy).mean())\n",
    "    print(f'Epoch: {epoch+1}, Loss: {mean_losses[epoch]:.6f}, Accuracy: {mean_accuracy[epoch]:.6f}')\n",
    "  return mean_losses, mean_accuracy"
   ]
  },
  {
   "cell_type": "code",
   "execution_count": 16,
   "metadata": {},
   "outputs": [
    {
     "name": "stdout",
     "output_type": "stream",
     "text": [
      "Epoch: 1, Loss: 0.250972, Accuracy: 0.925850\n",
      "Epoch: 2, Loss: 0.131870, Accuracy: 0.959900\n",
      "Epoch: 3, Loss: 0.107904, Accuracy: 0.966850\n",
      "Epoch: 4, Loss: 0.096135, Accuracy: 0.970517\n",
      "Epoch: 5, Loss: 0.085360, Accuracy: 0.973350\n"
     ]
    },
    {
     "data": {
      "text/plain": [
       "([tensor(0.2510),\n",
       "  tensor(0.1319),\n",
       "  tensor(0.1079),\n",
       "  tensor(0.0961),\n",
       "  tensor(0.0854)],\n",
       " [tensor(0.9259),\n",
       "  tensor(0.9599),\n",
       "  tensor(0.9668),\n",
       "  tensor(0.9705),\n",
       "  tensor(0.9733)])"
      ]
     },
     "execution_count": 16,
     "metadata": {},
     "output_type": "execute_result"
    }
   ],
   "source": [
    "# params\n",
    "model = Net().to(device)\n",
    "num_epochs = 5\n",
    "\n",
    "# train loop\n",
    "train_model(train_loader, model, num_epochs)"
   ]
  }
 ],
 "metadata": {
  "kernelspec": {
   "display_name": "torch",
   "language": "python",
   "name": "python3"
  },
  "language_info": {
   "codemirror_mode": {
    "name": "ipython",
    "version": 3
   },
   "file_extension": ".py",
   "mimetype": "text/x-python",
   "name": "python",
   "nbconvert_exporter": "python",
   "pygments_lexer": "ipython3",
   "version": "3.10.11"
  },
  "orig_nbformat": 4
 },
 "nbformat": 4,
 "nbformat_minor": 2
}
